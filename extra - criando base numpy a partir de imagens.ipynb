{
 "cells": [
  {
   "cell_type": "markdown",
   "metadata": {},
   "source": [
    "# Criando bases de dados no formato numpy a partir de imagens\n",
    "\n",
    "Nesse exemplo vamos criar uma base de dados contendo 3 imagens, no formato numpy. "
   ]
  },
  {
   "cell_type": "code",
   "execution_count": null,
   "metadata": {
    "collapsed": false
   },
   "outputs": [],
   "source": [
    "from scipy.misc import imread # Para ler imagens em memória\n",
    "import numpy as np\n",
    "import os"
   ]
  },
  {
   "cell_type": "code",
   "execution_count": null,
   "metadata": {
    "collapsed": false
   },
   "outputs": [],
   "source": [
    "#Vamos baixar tres imagens de exemplo\n",
    "\n",
    "if not os.path.isdir('caltech_samples'):\n",
    "    os.mkdir('caltech_samples')\n",
    "    import urllib\n",
    "    for name in ['lagosta.png', 'crocodilo.png', 'dalmata.png']:\n",
    "        urllib.urlretrieve('http://www.inf.ufpr.br/lghafemann/caltech_samples/%s' % name, 'caltech_samples/%s' % name)"
   ]
  },
  {
   "cell_type": "code",
   "execution_count": null,
   "metadata": {
    "collapsed": true
   },
   "outputs": [],
   "source": [
    "#Começamos por listar as imagens que queremos incluir na base\n",
    "\n",
    "path = \"caltech_samples/\"\n",
    "files = os.listdir(path)"
   ]
  },
  {
   "cell_type": "code",
   "execution_count": null,
   "metadata": {
    "collapsed": false
   },
   "outputs": [],
   "source": [
    "files"
   ]
  },
  {
   "cell_type": "markdown",
   "metadata": {},
   "source": [
    "Vamos agora ler as imagens. Podemos fazer isso usando \"for\" para ler cada imagem na lista \"files\", ou podemos usar sintaxe do python que facilita a manipulação de listas (chamado list comprehension)\n",
    "\n",
    "Mais informações: https://docs.python.org/2/tutorial/datastructures.html#list-comprehensions\n"
   ]
  },
  {
   "cell_type": "code",
   "execution_count": null,
   "metadata": {
    "collapsed": false
   },
   "outputs": [],
   "source": [
    "#chama a função imread para cada nome de arquivo. Retorna uma lista de imagens\n",
    "all_images = [imread(path + \"/\" + f) for f in files] "
   ]
  },
  {
   "cell_type": "code",
   "execution_count": null,
   "metadata": {
    "collapsed": false
   },
   "outputs": [],
   "source": [
    "print 'Tamanho da lista: ', len(all_images)\n",
    "print 'Tamanho da primeira imagem: ', all_images[0].shape "
   ]
  },
  {
   "cell_type": "markdown",
   "metadata": {},
   "source": [
    "## Tranformando a lista de imagens em um tensor numpy\n",
    "\n",
    "Para transformar a lista de imagens em um tensor numpy, podemos usar a função\n",
    "\n",
    "```\n",
    "X = np.array(lista)\n",
    "```\n",
    "\n",
    "Essa função irá colocar todas as imagens em um só tensor (matriz), com uma dimensão a mais:\n",
    "\n",
    "Se as imagens forem do tamanho 224 x 224 x 3 (224 de altura x 224 de largura x 3 canais (RGB)), X terá tamanho N x 224 x 224 x 3, onde N é o número de imagens"
   ]
  },
  {
   "cell_type": "code",
   "execution_count": null,
   "metadata": {
    "collapsed": false
   },
   "outputs": [],
   "source": [
    "X = np.array(all_images)"
   ]
  },
  {
   "cell_type": "code",
   "execution_count": null,
   "metadata": {
    "collapsed": false
   },
   "outputs": [],
   "source": [
    "print 'Tamanho de X: ', X.shape"
   ]
  },
  {
   "cell_type": "markdown",
   "metadata": {},
   "source": [
    "Para salvar a matriz em um arquivo, podemos usar a função ```np.save(arquivo, matriz)```"
   ]
  },
  {
   "cell_type": "code",
   "execution_count": null,
   "metadata": {
    "collapsed": false
   },
   "outputs": [],
   "source": [
    "np.save(\"X.npy\", X)"
   ]
  },
  {
   "cell_type": "markdown",
   "metadata": {},
   "source": [
    "Posteriormente, para carregar a matriz do disco para a memória, podemos usar a função ```X = np.load(arquivo)```"
   ]
  },
  {
   "cell_type": "code",
   "execution_count": null,
   "metadata": {
    "collapsed": false
   },
   "outputs": [],
   "source": [
    "x_loaded = np.load(\"X.npy\")\n",
    "x_loaded.shape"
   ]
  },
  {
   "cell_type": "markdown",
   "metadata": {},
   "source": [
    "# Notas\n",
    "\n",
    "* O método acima somente funciona se todas as imagens tiverem exatamente o mesmo tamanho (pois em uma matriz, todas as linhas possuem o mesmo número de colunas)\n",
    "* Para fazer o pré-processamento, podemos usar várias funções do pacote scipy:\n",
    "  * scipy.misc.imresize: Redimensiona uma imagem para determinado tamanho\n",
    "  * scipy.misc.imrotate: Rotaciona imagem\n",
    "  * scipy.ndimage.binary_erosion: Erosão (em imagens binárias). Possui também dilatação, etc.\n",
    "  * scipy.ndimage.zoom: Zoom (mudança de escala da imagem)\n",
    "  \n"
   ]
  }
 ],
 "metadata": {
  "kernelspec": {
   "display_name": "Python 2",
   "language": "python",
   "name": "python2"
  },
  "language_info": {
   "codemirror_mode": {
    "name": "ipython",
    "version": 2
   },
   "file_extension": ".py",
   "mimetype": "text/x-python",
   "name": "python",
   "nbconvert_exporter": "python",
   "pygments_lexer": "ipython2",
   "version": "2.7.11"
  }
 },
 "nbformat": 4,
 "nbformat_minor": 0
}
