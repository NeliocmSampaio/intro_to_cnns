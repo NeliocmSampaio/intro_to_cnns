{
 "cells": [
  {
   "cell_type": "markdown",
   "metadata": {},
   "source": [
    "# Transfer Learning usando lasagne - parte 2\n",
    "\n",
    "Nesse tutorial, vamos utilizar CNNs treinadas na base ImageNet para outros problemas de classificação de imagens, usando transfer learning.\n",
    "\n",
    "O objetivo é treinar um modelo para discriminar um subconjunto de 5 classes da base de dados Caltech 101 (http://www.vision.caltech.edu/Image_Datasets/Caltech101/). A base para esse exercício possui 325 imagens de tamanho 224x224x3. \n",
    "\n",
    "Na parte 2 desse tutorial, vamos utilizar o método de Finetunning descrito em [1]: \n",
    " 1. Vamos utilizar uma rede treinada na base ImageNet: https://github.com/Lasagne/Recipes/tree/master/modelzoo\n",
    " 2. Vamos remover a última camada da rede, adicionar novas camadas e prosseguir com o treinamento do modelo\n",
    "\n",
    "\n",
    "[1] Oquab, Maxime, et al. \"Learning and transferring mid-level image representations using convolutional neural networks.\" [link](http://www.cv-foundation.org/openaccess/content_cvpr_2014/papers/Oquab_Learning_and_Transferring_2014_CVPR_paper.pdf)"
   ]
  },
  {
   "cell_type": "code",
   "execution_count": null,
   "metadata": {
    "collapsed": true
   },
   "outputs": [],
   "source": [
    "import cPickle\n",
    "import lasagne\n",
    "import theano.tensor as T\n",
    "import theano\n",
    "import numpy as np\n",
    "from train import train_minibatch\n",
    "\n",
    "%load_ext autoreload\n",
    "%autoreload 2"
   ]
  },
  {
   "cell_type": "code",
   "execution_count": null,
   "metadata": {
    "collapsed": false
   },
   "outputs": [],
   "source": [
    "data = np.load('caltech_5classes.npz')\n",
    "x_train = data['x_train']\n",
    "y_train = data['y_train']\n",
    "x_test = data['x_test']\n",
    "y_test = data['y_test']\n",
    "classes = data['classes']"
   ]
  },
  {
   "cell_type": "code",
   "execution_count": null,
   "metadata": {
    "collapsed": true
   },
   "outputs": [],
   "source": [
    "from sklearn.cross_validation import train_test_split\n",
    "\n",
    "x_train, x_valid, y_train, y_valid = train_test_split(x_train, y_train, test_size=0.2, random_state=42)"
   ]
  },
  {
   "cell_type": "code",
   "execution_count": null,
   "metadata": {
    "collapsed": false
   },
   "outputs": [],
   "source": [
    "from vgg_cnn_s_cpu import build_model"
   ]
  },
  {
   "cell_type": "code",
   "execution_count": null,
   "metadata": {
    "collapsed": true
   },
   "outputs": [],
   "source": [
    "params = cPickle.load(open('vgg_cnn_s.pkl'))\n",
    "mean_img = params['mean image']\n",
    "\n",
    "def process_dataset(x):\n",
    "    x = np.transpose(x, (0,3,1,2))  # Modifica dados para: exemplos x canais RGB x altura x largura\n",
    "    x = x[:, ::-1]                  # Modifica canais de RGB para BGR\n",
    "    \n",
    "    x = x - mean_img\n",
    "    return x\n",
    "\n",
    "x_train = process_dataset(x_train)\n",
    "x_valid = process_dataset(x_valid)\n",
    "x_test = process_dataset(x_test)"
   ]
  },
  {
   "cell_type": "code",
   "execution_count": null,
   "metadata": {
    "collapsed": false
   },
   "outputs": [],
   "source": [
    "from lasagne.layers import DenseLayer\n",
    "from lasagne.nonlinearities import softmax\n",
    "\n",
    "def build_model_for_finetuning(params):\n",
    "    model = build_model()\n",
    "    \n",
    "    lasagne.layers.set_all_param_values(model['prob'], params['values'])\n",
    "    del model['fc8']\n",
    "    del model['prob']\n",
    "    model['fc8'] = DenseLayer(model['drop7'], 5, nonlinearity=softmax )\n",
    "\n",
    "    model['data'] = model['input']\n",
    "    model['out'] = model['fc8']\n",
    "    return model"
   ]
  },
  {
   "cell_type": "code",
   "execution_count": null,
   "metadata": {
    "collapsed": true
   },
   "outputs": [],
   "source": [
    "def get_output_batch(function, x, batch_size=32):\n",
    "    output = []\n",
    "    for batch_start in xrange(0, len(x), batch_size):\n",
    "        output.append(function(x[batch_start:batch_start+batch_size]))\n",
    "    return np.vstack(output)\n",
    "\n"
   ]
  },
  {
   "cell_type": "code",
   "execution_count": null,
   "metadata": {
    "collapsed": true
   },
   "outputs": [],
   "source": [
    "from lasagne.regularization import l2, regularize_layer_params"
   ]
  },
  {
   "cell_type": "code",
   "execution_count": null,
   "metadata": {
    "collapsed": true
   },
   "outputs": [],
   "source": [
    "def compile_train_function(net, lr, w_decay):\n",
    "    input_var = net['data'].input_var\n",
    "    output_var = T.ivector()\n",
    "\n",
    "    predicted = lasagne.layers.get_output(net['out'], inputs=input_var)\n",
    "    loss = lasagne.objectives.categorical_crossentropy(predicted, output_var)\n",
    "    loss = loss.mean()\n",
    "    loss += w_decay * regularize_layer_params(net['out'], l2)\n",
    "    \n",
    "\n",
    "    y_pred = T.argmax(predicted, axis=1)\n",
    "    acc = T.eq(y_pred, output_var)\n",
    "    acc = acc.mean()\n",
    "\n",
    "    params = lasagne.layers.get_all_params(net['out'])\n",
    "    updates = lasagne.updates.sgd(loss, params, lr)\n",
    "\n",
    "    train_fn = theano.function([input_var, output_var], [loss, acc], updates=updates)\n",
    "    val_fn = theano.function([input_var, output_var], [loss, acc])\n",
    "    return train_fn, val_fn"
   ]
  },
  {
   "cell_type": "code",
   "execution_count": null,
   "metadata": {
    "collapsed": true
   },
   "outputs": [],
   "source": [
    "model = build_model_for_finetuning(params)\n",
    "\n",
    "train_fn, valid_fn = compile_train_function(model, lr=0.001, w_decay= 1e-4)"
   ]
  },
  {
   "cell_type": "code",
   "execution_count": null,
   "metadata": {
    "collapsed": false,
    "scrolled": true
   },
   "outputs": [],
   "source": [
    "train_curves = train_minibatch(train_fn, valid_fn,     # Treinamento usando Batch Gradient Descent\n",
    "                     train_set=(x_train, y_train), \n",
    "                     valid_set=(x_test, y_test),\n",
    "                     epochs=10,\n",
    "                     batch_size=16)\n"
   ]
  },
  {
   "cell_type": "code",
   "execution_count": null,
   "metadata": {
    "collapsed": false
   },
   "outputs": [],
   "source": [
    "print 'Train accuracy: ', train_curves[1][-1]\n",
    "print 'Val accuracy: ', train_curves[3][-1]"
   ]
  },
  {
   "cell_type": "code",
   "execution_count": null,
   "metadata": {
    "collapsed": false
   },
   "outputs": [],
   "source": [
    "\n",
    "\n",
    "\n",
    "def compile_train_function_somelayers(net, lr, w_decay, layers_to_train):\n",
    "    input_var = net['data'].input_var\n",
    "    output_var = T.ivector()\n",
    "\n",
    "    predicted = lasagne.layers.get_output(net['out'], inputs=input_var)\n",
    "    loss = lasagne.objectives.categorical_crossentropy(predicted, output_var)\n",
    "    loss = loss.mean()\n",
    "    loss += w_decay * regularize_layer_params(net['out'], l2)\n",
    "    \n",
    "\n",
    "    y_pred = T.argmax(predicted, axis=1)\n",
    "    acc = T.eq(y_pred, output_var)\n",
    "    acc = acc.mean()\n",
    "\n",
    "    params = []\n",
    "    for l in layers_to_train:\n",
    "        params += l.get_params(trainable=True)\n",
    "    updates = lasagne.updates.sgd(loss, params, lr)\n",
    "\n",
    "    train_fn = theano.function([input_var, output_var], [loss, acc], updates=updates)\n",
    "    val_fn = theano.function([input_var, output_var], [loss, acc])\n",
    "    return train_fn, val_fn"
   ]
  },
  {
   "cell_type": "code",
   "execution_count": null,
   "metadata": {
    "collapsed": true
   },
   "outputs": [],
   "source": [
    "model = build_model_for_finetuning(params)\n",
    "\n",
    "train_fn, valid_fn = compile_train_function_somelayers(model, lr=0.01, w_decay=1e-4, layers_to_train=[model['fc8']])"
   ]
  },
  {
   "cell_type": "code",
   "execution_count": null,
   "metadata": {
    "collapsed": false
   },
   "outputs": [],
   "source": [
    "#Liberar memoria não utilizada:\n",
    "\n",
    "import gc\n",
    "gc.collect()"
   ]
  },
  {
   "cell_type": "code",
   "execution_count": null,
   "metadata": {
    "collapsed": false
   },
   "outputs": [],
   "source": [
    "train_curves = train_minibatch(train_fn, valid_fn,     # Treinamento usando Batch Gradient Descent\n",
    "                     train_set=(x_train, y_train), \n",
    "                     valid_set=(x_test, y_test),\n",
    "                     epochs=10,\n",
    "                     batch_size=16)\n"
   ]
  },
  {
   "cell_type": "code",
   "execution_count": null,
   "metadata": {
    "collapsed": false
   },
   "outputs": [],
   "source": [
    "def get_valid_acc_batch(function, x, y, batch_size=32):\n",
    "    acclist = []\n",
    "    for batch_start in xrange(0, len(x), batch_size):\n",
    "        acclist.append(function(x[batch_start:batch_start+batch_size], y[batch_start:batch_start+batch_size]))\n",
    "    return np.mean(acclist)\n",
    "\n"
   ]
  },
  {
   "cell_type": "code",
   "execution_count": null,
   "metadata": {
    "collapsed": false
   },
   "outputs": [],
   "source": [
    "get_valid_acc_batch(valid_fn, x_train, y_train)"
   ]
  },
  {
   "cell_type": "code",
   "execution_count": null,
   "metadata": {
    "collapsed": false
   },
   "outputs": [],
   "source": [
    "valid_fn(x_valid, y_valid)"
   ]
  },
  {
   "cell_type": "code",
   "execution_count": null,
   "metadata": {
    "collapsed": false
   },
   "outputs": [],
   "source": [
    "import sys\n",
    "\n",
    "sys.stdout.write('a')\n",
    "sys.stdout.write('a')\n"
   ]
  }
 ],
 "metadata": {
  "anaconda-cloud": {},
  "kernelspec": {
   "display_name": "Python [default]",
   "language": "python",
   "name": "python2"
  },
  "language_info": {
   "codemirror_mode": {
    "name": "ipython",
    "version": 2
   },
   "file_extension": ".py",
   "mimetype": "text/x-python",
   "name": "python",
   "nbconvert_exporter": "python",
   "pygments_lexer": "ipython2",
   "version": "2.7.12"
  }
 },
 "nbformat": 4,
 "nbformat_minor": 0
}
