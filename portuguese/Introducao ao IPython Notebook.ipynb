{
 "cells": [
  {
   "cell_type": "markdown",
   "metadata": {},
   "source": [
    "# Ipython notebook\n",
    "\n",
    "Essa página contém um notebook (caderno) de iPython. Notebooks são muito úteis para fazer prototipação, e documentar experimentos.\n",
    "\n",
    "Cada célula do notebook pode conter texto (como essa célula), ou conter código (como a próxima célula). Cada notebook possui um estado (i.e. mantém o conteúdo de variáveis), dessa forma, ao executar a próxima célula, a variavel x adquire o valor 3, que pode ser acessado em outras células.\n",
    "\n",
    "Para executar uma célula, clique no botão play acima, ou use os atalhos: Ctrl+enter (executar) ou Shift+enter (executar e ir para próxima célula)\n",
    "\n",
    "![](images/play.svg \"Play\")"
   ]
  },
  {
   "cell_type": "code",
   "execution_count": 1,
   "metadata": {
    "collapsed": false
   },
   "outputs": [
    {
     "name": "stdout",
     "output_type": "stream",
     "text": [
      "3\n"
     ]
    }
   ],
   "source": [
    "x = 1 + 2\n",
    "print x"
   ]
  },
  {
   "cell_type": "code",
   "execution_count": 2,
   "metadata": {
    "collapsed": false
   },
   "outputs": [
    {
     "name": "stdout",
     "output_type": "stream",
     "text": [
      "X ainda tem o valor: 3\n"
     ]
    }
   ],
   "source": [
    "print('X ainda tem o valor: %d' % x)"
   ]
  },
  {
   "cell_type": "markdown",
   "metadata": {},
   "source": [
    "Para verificar todas as variáveis ativas, você pode executar o comando \"whos\":"
   ]
  },
  {
   "cell_type": "code",
   "execution_count": 3,
   "metadata": {
    "collapsed": false
   },
   "outputs": [
    {
     "name": "stdout",
     "output_type": "stream",
     "text": [
      "Variable   Type    Data/Info\n",
      "----------------------------\n",
      "x          int     3\n"
     ]
    }
   ],
   "source": [
    "whos"
   ]
  },
  {
   "cell_type": "markdown",
   "metadata": {},
   "source": [
    "Você pode importar bibliotecas python normalmente:"
   ]
  },
  {
   "cell_type": "code",
   "execution_count": 4,
   "metadata": {
    "collapsed": false
   },
   "outputs": [
    {
     "name": "stdout",
     "output_type": "stream",
     "text": [
      "/export/livia/home/vision/lghafemann\n"
     ]
    }
   ],
   "source": [
    "import os\n",
    "print(os.getenv('HOME'))"
   ]
  },
  {
   "cell_type": "markdown",
   "metadata": {},
   "source": [
    "## Criando novas células\n",
    "\n",
    "Para criar uma nova célula, basta clicar no botão \"+\" no menu superior"
   ]
  },
  {
   "cell_type": "markdown",
   "metadata": {},
   "source": [
    "## Salvando:\n",
    "\n",
    "O notebook é automaticamente salvo a cada poucos minutos, e pode ser salvo a qualquer momento com o botão disquete no menu acima.\n",
    "\n",
    "Se quiser baixar o notebook (em formato ipynb, .py ou outros formatos), basta ir no menu \"File -> Download as\"\n",
    "\n",
    "![](images/save.png \"Save\")"
   ]
  },
  {
   "cell_type": "markdown",
   "metadata": {},
   "source": [
    "## Exercício\n",
    "\n",
    "Crie duas células abaixo:\n",
    "\n",
    "Na primeira célula, importe a biblioteca \"numpy\"\n",
    "\n",
    "Na segunda célula, imprima uma matrix 3x3 de números aleatórios. Dica: use [numpy.random](http://docs.scipy.org/doc/numpy/reference/generated/numpy.random.random.html#numpy.random.random)"
   ]
  },
  {
   "cell_type": "code",
   "execution_count": null,
   "metadata": {
    "collapsed": false
   },
   "outputs": [],
   "source": [
    "#Para ver a solução, rode essa célula\n",
    "\n",
    "%load solutions/ipython_basics.py"
   ]
  }
 ],
 "metadata": {
  "kernelspec": {
   "display_name": "Python 2",
   "language": "python",
   "name": "python2"
  },
  "language_info": {
   "codemirror_mode": {
    "name": "ipython",
    "version": 2
   },
   "file_extension": ".py",
   "mimetype": "text/x-python",
   "name": "python",
   "nbconvert_exporter": "python",
   "pygments_lexer": "ipython2",
   "version": "2.7.11"
  }
 },
 "nbformat": 4,
 "nbformat_minor": 0
}
