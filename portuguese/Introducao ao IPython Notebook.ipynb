{
 "cells": [
  {
   "cell_type": "markdown",
   "metadata": {},
   "source": [
    "# Ipython notebook\n",
    "\n",
    "Essa página contém um notebook (caderno) de iPython. Notebooks são muito úteis para fazer prototipação, e documentar experimentos.\n",
    "\n",
    "Cada célula do notebook pode conter texto (como essa célula), ou conter código (como a próxima célula). Cada notebook possui um estado (i.e. mantém o conteúdo de variáveis), dessa forma, ao executar a próxima célula, a variavel x adquire o valor 3, que pode ser acessado em outras células.\n",
    "\n",
    "Para executar uma célula, clique no botão play acima, ou use os atalhos: Ctrl+enter (executar) ou Shift+enter (executar e ir para próxima célula)\n",
    "\n",
    "\n"
   ]
  },
  {
   "cell_type": "code",
   "execution_count": null,
   "metadata": {
    "collapsed": false
   },
   "outputs": [],
   "source": [
    "x = 1 + 2\n",
    "print x"
   ]
  },
  {
   "cell_type": "code",
   "execution_count": null,
   "metadata": {
    "collapsed": false
   },
   "outputs": [],
   "source": [
    "print('X ainda tem o valor: %d' % x)"
   ]
  },
  {
   "cell_type": "markdown",
   "metadata": {},
   "source": [
    "Para verificar todas as variáveis ativas, você pode executar o comando \"whos\":"
   ]
  },
  {
   "cell_type": "code",
   "execution_count": null,
   "metadata": {
    "collapsed": false
   },
   "outputs": [],
   "source": [
    "whos"
   ]
  },
  {
   "cell_type": "markdown",
   "metadata": {},
   "source": [
    "Você pode importar bibliotecas python normalmente:"
   ]
  },
  {
   "cell_type": "code",
   "execution_count": null,
   "metadata": {
    "collapsed": false
   },
   "outputs": [],
   "source": [
    "import os\n",
    "print(os.getenv('HOME'))"
   ]
  },
  {
   "cell_type": "markdown",
   "metadata": {},
   "source": [
    "## Criando novas células\n",
    "\n",
    "Para criar uma nova célula, basta clicar no botão \"+\" no menu superior"
   ]
  },
  {
   "cell_type": "markdown",
   "metadata": {},
   "source": [
    "## Salvando:\n",
    "\n",
    "O notebook é automaticamente salvo a cada poucos minutos, e pode ser salvo a qualquer momento com o botão disquete no menu acima.\n",
    "\n",
    "Se quiser baixar o notebook (em formato ipynb, .py ou outros formatos), basta ir no menu \"File -> Download as\"\n",
    "\n",
    "![](images/save.png \"Save\")"
   ]
  },
  {
   "cell_type": "markdown",
   "metadata": {},
   "source": [
    "Outros detalhes:\n",
    "\n",
    "* À esquerda de cada célula, existe um indicador: \"In [ ]\". Isso indica:\n",
    "   * In[\\*] - a célula está executando\n",
    "   * In[ ] - a célula ainda não foi executada\n",
    "   * In[N] - a célula foi executada. O número N indica a ordem na qual ela foi executada\n",
    "* O resultado da célula contem tudo o que for impresso para a saída padrão (i.e. toda execução de \"print < variável >\") e também o resultado da última expressão\n",
    "* Utilise \"tab\" para autocompletar (e.g. o nome de uma classe ou função)"
   ]
  },
  {
   "cell_type": "markdown",
   "metadata": {},
   "source": [
    "## Exercício em grupo\n",
    "\n",
    "Crie duas células abaixo:\n",
    "\n",
    "Na primeira célula, importe a biblioteca \"numpy\" (use o alias \"np\")\n",
    "\n",
    "Na segunda célula, imprima uma matrix 3x3 de números aleatórios. \n",
    "\n",
    "Documentação: http://docs.scipy.org/doc/numpy/reference/generated/numpy.random.random.html#numpy.random.random\n",
    "\n",
    "\n"
   ]
  },
  {
   "cell_type": "code",
   "execution_count": null,
   "metadata": {
    "collapsed": false
   },
   "outputs": [],
   "source": [
    "#solução"
   ]
  },
  {
   "cell_type": "code",
   "execution_count": null,
   "metadata": {
    "collapsed": false
   },
   "outputs": [],
   "source": [
    "# Execute essa célula para ver a solução:\n",
    "\n",
    "%load solutions/ipython_basics.py"
   ]
  },
  {
   "cell_type": "markdown",
   "metadata": {},
   "source": [
    "## Operações comuns de matrizes e vetores em Numpy\n",
    "\n",
    "Numpy implementa uma série de operações em matrizes e vetores, similar ao MatLab (mas com algumas diferenças, que veremos a seguir).\n"
   ]
  },
  {
   "cell_type": "markdown",
   "metadata": {},
   "source": [
    "### Criação de matrizes e vetores\n",
    "\n",
    "Algumas funções úteis para a criação de matrizes:\n",
    "\n",
    "* ```np.ones(tamanho)``` - cria uma matrix com todos os elementos iguais a um\n",
    "* ```np.zeros(tamannho)``` - cria uma matrix com todos os elementos iguais a zero\n",
    "* ```np.array(lista)``` - cria uma matrix a partir de uma lista"
   ]
  },
  {
   "cell_type": "code",
   "execution_count": null,
   "metadata": {
    "collapsed": false
   },
   "outputs": [],
   "source": [
    "import numpy as np\n",
    "print np.ones(4) # Vetor de 4 elementos, todos iguais a um\n",
    "print np.zeros((2,2)) #Matrix de 2x2 elementos: Note que usamos dois paranteses!\n",
    "\n",
    "print np.array([[1.,4.],\n",
    "                [5.,6.]])"
   ]
  },
  {
   "cell_type": "markdown",
   "metadata": {},
   "source": [
    "### Operações aplicadas a cada elemento (element-wise)\n",
    "\n",
    "Em geral, operações em matrizes são aplicadas a cada elemento (element-wise). Por exemplo:\n",
    "\n",
    "```\n",
    "A = np.ones(4)\n",
    "B = A * 8\n",
    "C = np.log2(B)\n",
    "```\n",
    "\n",
    "C conterá 4 elementos, com o valor 3 ($\\log_2{8} = 3$)\n",
    "\n",
    "Segue uma lista de operações comumente utilizadas:\n",
    "\n",
    "* np.log, np.log2, np.log10 - logaritmo natural (base $e$), logaritmo com bases 2 e 10\n",
    "* np.exp - função exponencial\n",
    "* np.sqrt - raíz quadrada\n",
    "* Operadores: + - * / - Operações de soma, subtração, multiplicação e divisão (entre cada elemento de duas matrizes) "
   ]
  },
  {
   "cell_type": "code",
   "execution_count": null,
   "metadata": {
    "collapsed": false
   },
   "outputs": [],
   "source": [
    "A = np.ones(4)\n",
    "B = A * 8\n",
    "C = np.log2(B)\n",
    "print A\n",
    "print B\n",
    "print C"
   ]
  },
  {
   "cell_type": "markdown",
   "metadata": {},
   "source": [
    "### Operações entre matrizes / matrizes e vetores\n",
    "\n",
    "Transposta:\n",
    "* A.T - Transposta da matriz A\n",
    "\n",
    "\n",
    "Para multiplicação de matrizes, ou multiplicação de vetores, usamos a função:\n",
    "\n",
    "```\n",
    "C = np.dot(A,B)\n",
    "```\n",
    "\n",
    "ou, de forma equivalente (e, na minha opinião, mais clara): \n",
    "\n",
    "```\n",
    "C = A.dot(B)\n",
    "```\n",
    "\n",
    "Essa função calcula o produto das matrizes A e B (ou produto matrix/vetor, se for o caso)\n",
    "\n",
    "Exemplo:"
   ]
  },
  {
   "cell_type": "code",
   "execution_count": null,
   "metadata": {
    "collapsed": false
   },
   "outputs": [],
   "source": [
    "A = np.array([[1,1],[2,2]])\n",
    "B = np.array([[-1,1],[1,1]])\n",
    "\n",
    "print \"A:\\n\", A\n",
    "print \"A transposta:\\n\", A.T\n",
    "print \"B:\\n\", B\n",
    "print \"AB:\\n\", A.dot(B)"
   ]
  },
  {
   "cell_type": "markdown",
   "metadata": {},
   "source": [
    "Note que numpy também define a multiplicação de duas matrizes usando o operador \\*. A operação nesse caso é a multiplicação \"element-wise\" das matrizes:"
   ]
  },
  {
   "cell_type": "code",
   "execution_count": null,
   "metadata": {
    "collapsed": false
   },
   "outputs": [],
   "source": [
    "A = np.ones((2,3)) *2\n",
    "B = np.array([[1,2,3],[4,5,6]])\n",
    "\n",
    "print \"A:\\n\", A\n",
    "print \"B:\\n\", B\n",
    "print \"A*B:\\n\", A * B"
   ]
  },
  {
   "cell_type": "markdown",
   "metadata": {},
   "source": [
    "### Indexação\n",
    "\n",
    "As matrizes em numpy podem ser indexadas de várias formas, usando o operador []. Note que em numpy, os índices começam em 0.\n",
    "\n",
    "Exemplo: \n",
    "``` \n",
    "A = [[1, 2, 3]\n",
    "     [4, 5, 6]]\n",
    "```\n",
    "\n",
    "A possui 2 linhas e 3 colunas.\n",
    "\n",
    "```\n",
    "A[0,1] # retorna \"2\": o elemento da linha 0, coluna 1\n",
    "A[1,2] # retorna \"6\": o elemento da linha 1, coluna 2\n",
    "A[2,0] # Erro: a matrix tem apenas 2 linhas\n",
    "```\n",
    "\n",
    "Uma forma mais poderosa de indexar a matriz é utilizando o símbolo \":\" (dois pontos). Usado sozinho, ele tem o sentido de \"todas as linhas (ou colunas):\n",
    "\n",
    "```\n",
    "A[:,0] # retorna [1, 4] - a coluna 0\n",
    "A[1,:] # retorna [4,5,6] - a linha 1\n",
    "\n",
    "```\n",
    "\n",
    "Podemos também usar o símbolo \":\" para indexar parcialmente uma matrix:\n",
    "\n",
    "```\n",
    "A[0,1:] # retorna [2,3]: os elementos da linha 0, colunas 1 até o fim\n",
    "A[0,:2] # retorna [1,2]: os elementos da linha 0, colunas 0 até 2 (exclusivo - retorna as colunas 0 e 1)\n",
    "```"
   ]
  },
  {
   "cell_type": "code",
   "execution_count": null,
   "metadata": {
    "collapsed": false
   },
   "outputs": [],
   "source": [
    "A =np.array( [[1, 2, 3],\n",
    "     [4, 5, 6]])\n",
    "\n",
    "print A[:,0]\n",
    "print A[1,:]"
   ]
  },
  {
   "cell_type": "code",
   "execution_count": null,
   "metadata": {
    "collapsed": false
   },
   "outputs": [],
   "source": [
    "print A[0,1:]\n",
    "print A[0,:2]"
   ]
  },
  {
   "cell_type": "markdown",
   "metadata": {},
   "source": [
    "## Principais diferenças entre Numpy e Matlab\n",
    "\n",
    "1. Multiplicação de matrizes usa a função dot (e.g. A.dot(B)) ao invés de utilizar A * B (como em matlab)\n",
    "2. Multiplicação element-wise em numpy: A \\* B; em matlab: A .\\* B\n",
    "3. Indexação em numpy começa em 0; em matlab começa em 1\n",
    "4. Indexação usando \":\" (dois pontos) é exclusiva em numpy (à direita). Isto é: A[0:2] retorna [A[0], A[1]]. Não retorna A[2]\n",
    "\n",
    "Mais detalhes em: http://mathesaurus.sourceforge.net/matlab-numpy.html"
   ]
  },
  {
   "cell_type": "markdown",
   "metadata": {},
   "source": [
    "# Exercícios\n",
    "\n",
    "## 1. Manipulação de matrizes\n",
    "\n",
    "Crie a seguintes matrizes:\n",
    "\n",
    "* A: Tamanho 3x4, com valor \"4\" em cada posição (tente usar a função np.ones)\n",
    "* x: vetor de tamanho 3, com valor \"2\" em cada posição (tente usar a função np.ones)\n",
    "* y: vetor de tamanho 4, com valores = [10, 20, 30, 40]\n",
    "\n",
    "Calcule o valor de $A^\\intercal \\textbf{x} + \\textbf{y}$"
   ]
  },
  {
   "cell_type": "code",
   "execution_count": null,
   "metadata": {
    "collapsed": false
   },
   "outputs": [],
   "source": [
    "#Sua solução:\n"
   ]
  },
  {
   "cell_type": "markdown",
   "metadata": {},
   "source": [
    "## 2. Implemente a função sigmoid:\n",
    "\n",
    "$$ \\sigma(x) = \\frac{1}{1 + e^{-x}}$$\n",
    "\n",
    "Implemente usando a função np.exp. "
   ]
  },
  {
   "cell_type": "code",
   "execution_count": null,
   "metadata": {
    "collapsed": false
   },
   "outputs": [],
   "source": [
    "#Sua solução:\n",
    "\n",
    "def my_sigmoid(x):\n",
    "    # implemente aqui a função\n"
   ]
  },
  {
   "cell_type": "markdown",
   "metadata": {},
   "source": [
    "Note abaixo que você pode chamar essa função usando uma matrix como argumento (o retorno será a função $\\sigma(A_{ij})$ para cada elemento $A_{ij}$ da matrix)"
   ]
  },
  {
   "cell_type": "code",
   "execution_count": null,
   "metadata": {
    "collapsed": false
   },
   "outputs": [],
   "source": [
    "#Testando sua execução:\n",
    "print my_sigmoid(0) # Deve retornar 0.5\n",
    "print my_sigmoid(np.array([-100,0,100])) # deve retornar [(algo próximo a 0), 0.5, (algo próximo a 1)]"
   ]
  },
  {
   "cell_type": "code",
   "execution_count": null,
   "metadata": {
    "collapsed": false
   },
   "outputs": [],
   "source": [
    "# Execute essa célula para ver a solução dos exercícios acima\n",
    "\n",
    "%load solutions/ipython_matrix.py"
   ]
  }
 ],
 "metadata": {
  "kernelspec": {
   "display_name": "Python 2",
   "language": "python",
   "name": "python2"
  },
  "language_info": {
   "codemirror_mode": {
    "name": "ipython",
    "version": 2
   },
   "file_extension": ".py",
   "mimetype": "text/x-python",
   "name": "python",
   "nbconvert_exporter": "python",
   "pygments_lexer": "ipython2",
   "version": "2.7.11"
  }
 },
 "nbformat": 4,
 "nbformat_minor": 0
}
